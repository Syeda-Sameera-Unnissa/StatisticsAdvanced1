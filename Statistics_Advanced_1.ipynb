{
  "nbformat": 4,
  "nbformat_minor": 0,
  "metadata": {
    "colab": {
      "provenance": []
    },
    "kernelspec": {
      "name": "python3",
      "display_name": "Python 3"
    },
    "language_info": {
      "name": "python"
    }
  },
  "cells": [
    {
      "cell_type": "markdown",
      "source": [
        "1. What is a random variable in probability theory?\n",
        "---\n",
        "A random variable is a numerical outcome of a random phenomenon. It assigns a real number to each outcome in a sample space. There are two types: discrete (finite/countable outcomes) and continuous (infinite/uncountable outcomes)."
      ],
      "metadata": {
        "id": "Z2tn2LGMDGPV"
      }
    },
    {
      "cell_type": "markdown",
      "source": [
        "2. What are the types of random variables?\n",
        "---\n",
        "A. There are two main types of random variables:\n",
        "\n",
        "Discrete Random Variable: Takes countable values (e.g., 0, 1, 2,…).\n",
        "\n",
        "Continuous Random Variable: Takes an infinite number of values within a given range (e.g., height, weight).\n"
      ],
      "metadata": {
        "id": "YFnutYuRDWG1"
      }
    },
    {
      "cell_type": "markdown",
      "source": [
        "3. What is the difference between discrete and continuous distributions?\n",
        "\n",
        "---\n",
        "A. Discrete Distribution represents probabilities of discrete random variables. Probabilities are assigned to specific individual values.\n",
        "\n",
        "Continuous Distribution is used for continuous random variables. Probabilities are calculated over intervals, not at individual points.\n"
      ],
      "metadata": {
        "id": "uCT9CJfBDief"
      }
    },
    {
      "cell_type": "markdown",
      "source": [
        "4. What are probability distribution functions (PDF)?\n",
        "\n",
        "---\n",
        "A. For discrete variables, PDF is called Probability Mass Function (PMF) which gives the probability that a discrete variable is equal to a certain value.\n",
        "\n",
        "For continuous variables, PDF describes the likelihood of a random variable falling within a range of values. The area under the PDF curve gives the probability over an interval.\n"
      ],
      "metadata": {
        "id": "vmJhy1htDpfu"
      }
    },
    {
      "cell_type": "markdown",
      "source": [
        "5. How do cumulative distribution functions (CDF) differ from probability distribution functions (PDF)?\n",
        "\n",
        "---\n",
        "\n",
        "A. PDF gives the probability of a specific value (or small interval).\n",
        "\n",
        "CDF gives the probability that a random variable is less than or equal to a certain value, i.e.,\n",
        "𝐹(𝑥)=𝑃(𝑋≤𝑥)\n",
        "F(x)=P(X≤x).\n",
        "It’s the cumulative sum (discrete) or integral (continuous) of the PDF."
      ],
      "metadata": {
        "id": "GAfZMNigDpsv"
      }
    },
    {
      "cell_type": "markdown",
      "source": [
        "6. What is a discrete uniform distribution?\n",
        "\n",
        "---\n",
        "A. A discrete uniform distribution is one where all outcomes are equally likely. For example, rolling a fair die has six outcomes, each with probability 1/6.\n"
      ],
      "metadata": {
        "id": "_apkFB5lDqB_"
      }
    },
    {
      "cell_type": "markdown",
      "source": [
        "7. What are the key properties of a Bernoulli distribution?\n",
        "\n",
        "---\n",
        "\n",
        "A. Only two possible outcomes: success (1) and failure (0).\n",
        "\n",
        "The probability of success is p, and failure is 1-p.\n",
        "\n",
        "Mean: p\n",
        "\n",
        "Variance: p(1-p)"
      ],
      "metadata": {
        "id": "m3cO3L65DqKx"
      }
    },
    {
      "cell_type": "markdown",
      "source": [
        "8. What is the binomial distribution, and how is it used in probability?\n",
        "\n",
        "---\n",
        "\n",
        "A. The binomial distribution models the number of successes in a fixed number of independent Bernoulli trials.\n",
        "Used when:\n",
        "\n",
        "There are n fixed trials.\n",
        "\n",
        "Each trial has two outcomes (success/failure).\n",
        "\n",
        "Each trial is independent.\n",
        "\n",
        "Success probability p is constant.\n",
        "Formula: P(X=k)= (n/k) p^k (1−p)^n−k\n",
        "\n"
      ],
      "metadata": {
        "id": "ohgzTCPwDqSC"
      }
    },
    {
      "cell_type": "markdown",
      "source": [
        "9. What is the Poisson distribution and where is it applied?\n",
        "\n",
        "---\n",
        "\n",
        "A. The Poisson distribution models the number of times an event occurs in a fixed interval of time or space, when the events occur independently.\n",
        "Used for rare events like:\n",
        "\n",
        "Number of emails per hour\n",
        "\n",
        "Number of calls to a call center\n",
        "Formula: P(X=k)= 𝜆^k e^-𝜆/k!\n",
        "\n",
        "Where\n",
        "λ is the average rate of occurrence."
      ],
      "metadata": {
        "id": "Zi0eLY7BDqZu"
      }
    },
    {
      "cell_type": "markdown",
      "source": [
        "10. What is a continuous uniform distribution?\n",
        "\n",
        "---\n",
        "\n",
        "A. A continuous uniform distribution is one where all intervals of the same length in the distribution’s range are equally likely.\n",
        "For example, the time it takes for a bus to arrive between 10 and 20 minutes.\n",
        "\n",
        "PDF:\n",
        "\n",
        "f(x) = 1/b-a\n",
        "\n",
        "for a ≤ x ≤ b"
      ],
      "metadata": {
        "id": "nveEC7_HDqhO"
      }
    },
    {
      "cell_type": "markdown",
      "source": [
        "11. What are the characteristics of a normal distribution?\n",
        "\n",
        "---\n",
        "\n",
        "A. Bell-shaped and symmetric around the mean.\n",
        "\n",
        "Mean = Median = Mode.\n",
        "\n",
        "Defined by two parameters: mean 𝜇 and standard deviation σ.\n",
        "\n",
        "The area under the curve = 1.\n",
        "\n",
        "68% of data within 1σ, 95% within 2σ, and 99.7% within 3σ (Empirical Rule)."
      ],
      "metadata": {
        "id": "lba1AUeRDqpW"
      }
    },
    {
      "cell_type": "markdown",
      "source": [
        "12. What is the standard normal distribution, and why is it important?\n",
        "\n",
        "---\n",
        "\n",
        "A. A standard normal distribution is a normal distribution with:\n",
        "\n",
        "Mean\n",
        "μ=0\n",
        "\n",
        "Standard deviation\n",
        "σ=1\n",
        "\n",
        "It is important because:\n",
        "\n",
        "It simplifies calculations.\n",
        "\n",
        "Any normal distribution can be converted to standard normal using Z-scores:\n",
        "\n",
        "Z = (X - 𝜇)/σ"
      ],
      "metadata": {
        "id": "DNXNyLo9Dqwt"
      }
    },
    {
      "cell_type": "markdown",
      "source": [
        "13. What is the Central Limit Theorem (CLT), and why is it critical in statistics?\n",
        "\n",
        "---\n",
        "\n",
        "A. The Central Limit Theorem states that the sampling distribution of the sample mean approaches a normal distribution as the sample size becomes large, regardless of the original population distribution.\n",
        "\n",
        "Importance:\n",
        "\n",
        "Allows use of normal probability methods for inference (e.g., confidence intervals, hypothesis tests).\n",
        "\n",
        "Fundamental for many statistical analyses."
      ],
      "metadata": {
        "id": "Wx6hHPDFDq3v"
      }
    },
    {
      "cell_type": "markdown",
      "source": [
        "14. How does the Central Limit Theorem relate to the normal distribution?\n",
        "\n",
        "---\n",
        "\n",
        "A. The Central Limit Theorem (CLT) states that the sampling distribution of the sample mean becomes approximately normal as the sample size increases, regardless of the shape of the original population distribution. This means that for large enough samples, we can use normal distribution methods (like Z-scores and confidence intervals) even if the data is not originally normal."
      ],
      "metadata": {
        "id": "UaWlbFOnDq-e"
      }
    },
    {
      "cell_type": "markdown",
      "source": [
        "15. What is the application of Z statistics in hypothesis testing?\n",
        "\n",
        "---\n",
        "\n",
        "A. Z statistics are used in hypothesis testing to determine how far a sample statistic (like a sample mean) is from the population mean, in terms of standard deviations.\n",
        "If the Z statistic falls in the critical region (usually based on a chosen significance level like 0.05), we reject the null hypothesis. It's especially used when:\n",
        "\n",
        "The sample size is large (n > 30).\n",
        "\n",
        "The population standard deviation is known."
      ],
      "metadata": {
        "id": "BrnuU9PaDrFx"
      }
    },
    {
      "cell_type": "markdown",
      "source": [
        "16. How do you calculate a Z-score, and what does it represent?\n",
        "\n",
        "---\n",
        "\n",
        "A. The Z-score is calculated using the formula:\n",
        "Z = X-𝜇/σ\n",
        "\n",
        "Where:\n",
        "X = observed value\n",
        "μ = mean\n",
        "σ = standard deviation\n",
        "\n",
        "It represents how many standard deviations an element is from the mean. A Z-score of 2 means the value is 2 standard deviations above the mean."
      ],
      "metadata": {
        "id": "eicqG98IDrTX"
      }
    },
    {
      "cell_type": "markdown",
      "source": [
        "17. What are point estimates and interval estimates in statistics?\n",
        "\n",
        "---\n",
        "A. A point estimate gives a single value as an estimate of a population parameter (e.g., sample mean ˉxˉ estimating population mean 𝜇).\n",
        "\n",
        "An interval estimate provides a range (interval) within which the parameter is expected to lie, along with a confidence level (e.g., 95% CI for the population mean).\n",
        "\n",
        "\n"
      ],
      "metadata": {
        "id": "EdW3dhXgDrcT"
      }
    },
    {
      "cell_type": "markdown",
      "source": [
        "18. What is the significance of confidence intervals in statistical analysis?\n",
        "\n",
        "---\n",
        "\n",
        "A. Confidence intervals (CI) provide a range of values within which we expect the population parameter to lie with a certain level of confidence (e.g., 95%). They:\n",
        "\n",
        "Indicate the precision of the estimate.\n",
        "\n",
        "Help in decision making by showing the reliability of the estimate.\n",
        "\n",
        "Are used in hypothesis testing to determine if a value lies within a likely range."
      ],
      "metadata": {
        "id": "E2DQeINGDrjd"
      }
    },
    {
      "cell_type": "markdown",
      "source": [
        "19. What is the relationship between a Z-score and a confidence interval?\n",
        "\n",
        "---\n",
        "\n",
        "A. The Z-score determines the margin of error used to create a confidence interval. For example:\n",
        "\n",
        "A 95% confidence level uses a Z-score of approximately 1.96.\n",
        "\n",
        " Z-scores help define the bounds of the confidence interval."
      ],
      "metadata": {
        "id": "PK6QpIXwDrsI"
      }
    },
    {
      "cell_type": "markdown",
      "source": [
        "20. How are Z-scores used to compare different distributions?\n",
        "\n",
        "---\n",
        "\n",
        "A. Z-scores standardize values from different distributions by converting them to a common scale (mean = 0, SD = 1).\n",
        "This allows comparison of values from different datasets by showing how far each is from its own mean in terms of standard deviations."
      ],
      "metadata": {
        "id": "W87K4pMvDrzl"
      }
    },
    {
      "cell_type": "markdown",
      "source": [
        "21. What are the assumptions for applying the Central Limit Theorem?\n",
        "\n",
        "---\n",
        "\n",
        "A. To apply the CLT:\n",
        "\n",
        "The samples must be independent.\n",
        "\n",
        "The sample size should be sufficiently large (typically n≥30).\n",
        "\n",
        "The population from which samples are taken should have a finite variance.\n",
        "\n",
        "For small samples, the population should be normally distributed."
      ],
      "metadata": {
        "id": "IZBHpZKYDr7l"
      }
    },
    {
      "cell_type": "markdown",
      "source": [
        "22. What is the concept of expected value in a probability distribution?\n",
        "\n",
        "---\n",
        "\n",
        "A. The expected value (E[X]) is the long-run average or mean of a random variable.\n",
        "For discrete variables:\n",
        "\n",
        "E[X]=∑x\n",
        "i\n",
        "​\n",
        " ⋅P(x\n",
        "i\n",
        "​\n",
        " )\n",
        "\n",
        "It tells what value we expect on average if the experiment is repeated many times."
      ],
      "metadata": {
        "id": "_Xr27gHIDsC3"
      }
    },
    {
      "cell_type": "markdown",
      "source": [
        "23. How does a probability distribution relate to the expected outcome of a random variable?\n",
        "\n",
        "---\n",
        "\n",
        "A. A probability distribution provides the probabilities for all possible outcomes of a random variable. The expected value is calculated using this distribution and represents the average outcome over many trials.\n",
        "So, the distribution shapes and weights the outcomes to give the expected value."
      ],
      "metadata": {
        "id": "p6f_drFkDsKO"
      }
    }
  ]
}